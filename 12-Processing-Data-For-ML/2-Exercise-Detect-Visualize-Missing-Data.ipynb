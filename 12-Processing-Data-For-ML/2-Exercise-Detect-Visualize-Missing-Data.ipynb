{
  "cells": [
    {
      "cell_type": "code",
      "execution_count": 1,
      "metadata": {},
      "outputs": [],
      "source": [
        "import sys\n",
        "sys.path.append('../')"
      ]
    },
    {
      "cell_type": "markdown",
      "metadata": {},
      "source": [
        "# Exercise: Titanic Dataset - Find and Visualize Missing Data\n",
        "\n",
        "Datasets can often have missing data, which can cause problems when we perform machine learning. Missing data can be hard to spot at a first glance.\n",
        "\n",
        "Our scenario uses a list of passengers on the failed maiden voyage of the Titanic. We want to know which factors predicted passenger survival. For our first task, which we perform here, we check whether our dataset has missing information."
      ]
    },
    {
      "cell_type": "markdown",
      "metadata": {
        "nteract": {
          "transient": {
            "deleting": false
          }
        }
      },
      "source": [
        "## Preparing data\n",
        "\n",
        "Let's use Pandas to load the dataset and take a cursory look at it:"
      ]
    },
    {
      "cell_type": "code",
      "execution_count": 2,
      "metadata": {
        "gather": {
          "logged": 1677282976719
        }
      },
      "outputs": [
        {
          "data": {
            "text/html": [
              "<div>\n",
              "<style scoped>\n",
              "    .dataframe tbody tr th:only-of-type {\n",
              "        vertical-align: middle;\n",
              "    }\n",
              "\n",
              "    .dataframe tbody tr th {\n",
              "        vertical-align: top;\n",
              "    }\n",
              "\n",
              "    .dataframe thead th {\n",
              "        text-align: right;\n",
              "    }\n",
              "</style>\n",
              "<table border=\"1\" class=\"dataframe\">\n",
              "  <thead>\n",
              "    <tr style=\"text-align: right;\">\n",
              "      <th></th>\n",
              "      <th>PassengerId</th>\n",
              "      <th>Survived</th>\n",
              "      <th>Pclass</th>\n",
              "      <th>Name</th>\n",
              "      <th>Sex</th>\n",
              "      <th>Age</th>\n",
              "      <th>SibSp</th>\n",
              "      <th>Parch</th>\n",
              "      <th>Ticket</th>\n",
              "      <th>Fare</th>\n",
              "      <th>Cabin</th>\n",
              "      <th>Embarked</th>\n",
              "    </tr>\n",
              "  </thead>\n",
              "  <tbody>\n",
              "    <tr>\n",
              "      <th>0</th>\n",
              "      <td>1</td>\n",
              "      <td>0</td>\n",
              "      <td>3</td>\n",
              "      <td>Braund, Mr. Owen Harris</td>\n",
              "      <td>male</td>\n",
              "      <td>22.0</td>\n",
              "      <td>1</td>\n",
              "      <td>0</td>\n",
              "      <td>A/5 21171</td>\n",
              "      <td>7.2500</td>\n",
              "      <td>NaN</td>\n",
              "      <td>S</td>\n",
              "    </tr>\n",
              "    <tr>\n",
              "      <th>1</th>\n",
              "      <td>2</td>\n",
              "      <td>1</td>\n",
              "      <td>1</td>\n",
              "      <td>Cumings, Mrs. John Bradley (Florence Briggs Th...</td>\n",
              "      <td>female</td>\n",
              "      <td>38.0</td>\n",
              "      <td>1</td>\n",
              "      <td>0</td>\n",
              "      <td>PC 17599</td>\n",
              "      <td>71.2833</td>\n",
              "      <td>C85</td>\n",
              "      <td>C</td>\n",
              "    </tr>\n",
              "    <tr>\n",
              "      <th>2</th>\n",
              "      <td>3</td>\n",
              "      <td>1</td>\n",
              "      <td>3</td>\n",
              "      <td>Heikkinen, Miss. Laina</td>\n",
              "      <td>female</td>\n",
              "      <td>26.0</td>\n",
              "      <td>0</td>\n",
              "      <td>0</td>\n",
              "      <td>STON/O2. 3101282</td>\n",
              "      <td>7.9250</td>\n",
              "      <td>NaN</td>\n",
              "      <td>S</td>\n",
              "    </tr>\n",
              "    <tr>\n",
              "      <th>3</th>\n",
              "      <td>4</td>\n",
              "      <td>1</td>\n",
              "      <td>1</td>\n",
              "      <td>Futrelle, Mrs. Jacques Heath (Lily May Peel)</td>\n",
              "      <td>female</td>\n",
              "      <td>35.0</td>\n",
              "      <td>1</td>\n",
              "      <td>0</td>\n",
              "      <td>113803</td>\n",
              "      <td>53.1000</td>\n",
              "      <td>C123</td>\n",
              "      <td>S</td>\n",
              "    </tr>\n",
              "    <tr>\n",
              "      <th>4</th>\n",
              "      <td>5</td>\n",
              "      <td>0</td>\n",
              "      <td>3</td>\n",
              "      <td>Allen, Mr. William Henry</td>\n",
              "      <td>male</td>\n",
              "      <td>35.0</td>\n",
              "      <td>0</td>\n",
              "      <td>0</td>\n",
              "      <td>373450</td>\n",
              "      <td>8.0500</td>\n",
              "      <td>NaN</td>\n",
              "      <td>S</td>\n",
              "    </tr>\n",
              "  </tbody>\n",
              "</table>\n",
              "</div>"
            ],
            "text/plain": [
              "   PassengerId  Survived  Pclass  \\\n",
              "0            1         0       3   \n",
              "1            2         1       1   \n",
              "2            3         1       3   \n",
              "3            4         1       1   \n",
              "4            5         0       3   \n",
              "\n",
              "                                                Name     Sex   Age  SibSp  \\\n",
              "0                            Braund, Mr. Owen Harris    male  22.0      1   \n",
              "1  Cumings, Mrs. John Bradley (Florence Briggs Th...  female  38.0      1   \n",
              "2                             Heikkinen, Miss. Laina  female  26.0      0   \n",
              "3       Futrelle, Mrs. Jacques Heath (Lily May Peel)  female  35.0      1   \n",
              "4                           Allen, Mr. William Henry    male  35.0      0   \n",
              "\n",
              "   Parch            Ticket     Fare Cabin Embarked  \n",
              "0      0         A/5 21171   7.2500   NaN        S  \n",
              "1      0          PC 17599  71.2833   C85        C  \n",
              "2      0  STON/O2. 3101282   7.9250   NaN        S  \n",
              "3      0            113803  53.1000  C123        S  \n",
              "4      0            373450   8.0500   NaN        S  "
            ]
          },
          "execution_count": 2,
          "metadata": {},
          "output_type": "execute_result"
        }
      ],
      "source": [
        "import pandas as pd\n",
        "import matplotlib.pyplot as plt\n",
        "\n",
        "# Load data from our dataset file into a pandas dataframe\n",
        "dataset = pd.read_csv('../Data/titanic.csv', index_col=False, sep=\",\", header=0)\n",
        "\n",
        "# Let's take a look at the data\n",
        "dataset.head()\n"
      ]
    },
    {
      "cell_type": "markdown",
      "metadata": {},
      "source": [
        "Now, we'll see the number of samples and columns in the data set:\n",
        "\n"
      ]
    },
    {
      "cell_type": "code",
      "execution_count": 3,
      "metadata": {
        "gather": {
          "logged": 1677282985793
        }
      },
      "outputs": [
        {
          "name": "stdout",
          "output_type": "stream",
          "text": [
            "(891, 12)\n"
          ]
        }
      ],
      "source": [
        "# Shape tells us how many rows and columns we have\n",
        "print(dataset.shape)"
      ]
    },
    {
      "cell_type": "markdown",
      "metadata": {},
      "source": [
        "We have data for 891 passengers, each described by 12 different variables.\n",
        "\n",
        "## Finding Missing Data\n",
        "\n",
        "Do we have a complete dataset?\n",
        "\n",
        "No. We know from historical records that there were more than 2000 people on the Titanic, so we are clearly missing information on more than 1000 people! \n",
        "\n",
        "How can we tell if the available data is complete?\n",
        "\n",
        "We could print the entire dataset, but this might involve human error, and it would become impractical with this many samples.\n",
        "\n",
        "A better option would use `pandas` to report the columns that have \"empty\" cells:"
      ]
    },
    {
      "cell_type": "code",
      "execution_count": 4,
      "metadata": {
        "gather": {
          "logged": 1677282996252
        }
      },
      "outputs": [
        {
          "name": "stdout",
          "output_type": "stream",
          "text": [
            "             Empty Cells\n",
            "PassengerId            0\n",
            "Survived               0\n",
            "Pclass                 0\n",
            "Name                   0\n",
            "Sex                    0\n",
            "Age                  177\n",
            "SibSp                  0\n",
            "Parch                  0\n",
            "Ticket                 0\n",
            "Fare                   0\n",
            "Cabin                687\n",
            "Embarked               2\n"
          ]
        }
      ],
      "source": [
        "# Calculate the number of empty cells in each column\n",
        "# The following line consists of three commands. Try\n",
        "# to think about how they work together to calculate\n",
        "# the number of missing entries per column\n",
        "missing_data = dataset.isnull().sum().to_frame()\n",
        "\n",
        "# Rename column holding the sums\n",
        "missing_data = missing_data.rename(columns={0:'Empty Cells'})\n",
        "\n",
        "# Print the results\n",
        "print(missing_data)"
      ]
    },
    {
      "attachments": {},
      "cell_type": "markdown",
      "metadata": {},
      "source": [
        "It looks like we don't know the age of 177 passengers, and we don't know if two passengers even embarked.\n",
        "\n",
        "Cabin information for a whopping 687 persons is also missing.\n",
        "\n",
        "## Missing Data Visualizations\n",
        "\n",
        "It can sometimes help if we can find some kind of pattern in the missing data.   \n",
        "\n",
        "We can plot the absence of data in a few ways. One of the most helpful is to literally plot gaps in the dataset:"
      ]
    },
    {
      "cell_type": "code",
      "execution_count": 5,
      "metadata": {
        "gather": {
          "logged": 1677283003579
        }
      },
      "outputs": [
        {
          "ename": "ModuleNotFoundError",
          "evalue": "No module named 'missingno'",
          "output_type": "error",
          "traceback": [
            "\u001b[0;31m---------------------------------------------------------------------------\u001b[0m",
            "\u001b[0;31mModuleNotFoundError\u001b[0m                       Traceback (most recent call last)",
            "Cell \u001b[0;32mIn[5], line 1\u001b[0m\n\u001b[0;32m----> 1\u001b[0m \u001b[38;5;28;01mimport\u001b[39;00m \u001b[38;5;21;01mmissingno\u001b[39;00m \u001b[38;5;28;01mas\u001b[39;00m \u001b[38;5;21;01mmsno\u001b[39;00m\n\u001b[1;32m      3\u001b[0m \u001b[38;5;66;03m# Plot a matrix chart, set chart and font size\u001b[39;00m\n\u001b[1;32m      4\u001b[0m msno\u001b[38;5;241m.\u001b[39mmatrix(dataset, figsize\u001b[38;5;241m=\u001b[39m(\u001b[38;5;241m10\u001b[39m,\u001b[38;5;241m5\u001b[39m), fontsize\u001b[38;5;241m=\u001b[39m\u001b[38;5;241m11\u001b[39m)\n",
            "\u001b[0;31mModuleNotFoundError\u001b[0m: No module named 'missingno'"
          ]
        }
      ],
      "source": [
        "import missingno as msno\n",
        "\n",
        "# Plot a matrix chart, set chart and font size\n",
        "msno.matrix(dataset, figsize=(10,5), fontsize=11)"
      ]
    },
    {
      "attachments": {},
      "cell_type": "markdown",
      "metadata": {},
      "source": [
        "The horizontal white bars in the graph show missing data. Here, the patterns aren't visually clear, but maybe many passengers with missing `Age` information are also missing `Cabin` information.\n",
        "\n",
        "## Identifying Individual Passengers with Missing Information.\n",
        "\n",
        "Let's use pandas to get a list of passengers of unknown age:"
      ]
    },
    {
      "cell_type": "code",
      "execution_count": 6,
      "metadata": {
        "gather": {
          "logged": 1677283010269
        }
      },
      "outputs": [
        {
          "data": {
            "text/html": [
              "<div>\n",
              "<style scoped>\n",
              "    .dataframe tbody tr th:only-of-type {\n",
              "        vertical-align: middle;\n",
              "    }\n",
              "\n",
              "    .dataframe tbody tr th {\n",
              "        vertical-align: top;\n",
              "    }\n",
              "\n",
              "    .dataframe thead th {\n",
              "        text-align: right;\n",
              "    }\n",
              "</style>\n",
              "<table border=\"1\" class=\"dataframe\">\n",
              "  <thead>\n",
              "    <tr style=\"text-align: right;\">\n",
              "      <th></th>\n",
              "      <th>PassengerId</th>\n",
              "      <th>Name</th>\n",
              "      <th>Survived</th>\n",
              "      <th>Age</th>\n",
              "    </tr>\n",
              "  </thead>\n",
              "  <tbody>\n",
              "    <tr>\n",
              "      <th>5</th>\n",
              "      <td>6</td>\n",
              "      <td>Moran, Mr. James</td>\n",
              "      <td>0</td>\n",
              "      <td>NaN</td>\n",
              "    </tr>\n",
              "    <tr>\n",
              "      <th>17</th>\n",
              "      <td>18</td>\n",
              "      <td>Williams, Mr. Charles Eugene</td>\n",
              "      <td>1</td>\n",
              "      <td>NaN</td>\n",
              "    </tr>\n",
              "    <tr>\n",
              "      <th>19</th>\n",
              "      <td>20</td>\n",
              "      <td>Masselmani, Mrs. Fatima</td>\n",
              "      <td>1</td>\n",
              "      <td>NaN</td>\n",
              "    </tr>\n",
              "    <tr>\n",
              "      <th>26</th>\n",
              "      <td>27</td>\n",
              "      <td>Emir, Mr. Farred Chehab</td>\n",
              "      <td>0</td>\n",
              "      <td>NaN</td>\n",
              "    </tr>\n",
              "    <tr>\n",
              "      <th>28</th>\n",
              "      <td>29</td>\n",
              "      <td>O'Dwyer, Miss. Ellen \"Nellie\"</td>\n",
              "      <td>1</td>\n",
              "      <td>NaN</td>\n",
              "    </tr>\n",
              "    <tr>\n",
              "      <th>29</th>\n",
              "      <td>30</td>\n",
              "      <td>Todoroff, Mr. Lalio</td>\n",
              "      <td>0</td>\n",
              "      <td>NaN</td>\n",
              "    </tr>\n",
              "    <tr>\n",
              "      <th>31</th>\n",
              "      <td>32</td>\n",
              "      <td>Spencer, Mrs. William Augustus (Marie Eugenie)</td>\n",
              "      <td>1</td>\n",
              "      <td>NaN</td>\n",
              "    </tr>\n",
              "    <tr>\n",
              "      <th>32</th>\n",
              "      <td>33</td>\n",
              "      <td>Glynn, Miss. Mary Agatha</td>\n",
              "      <td>1</td>\n",
              "      <td>NaN</td>\n",
              "    </tr>\n",
              "    <tr>\n",
              "      <th>36</th>\n",
              "      <td>37</td>\n",
              "      <td>Mamee, Mr. Hanna</td>\n",
              "      <td>1</td>\n",
              "      <td>NaN</td>\n",
              "    </tr>\n",
              "    <tr>\n",
              "      <th>42</th>\n",
              "      <td>43</td>\n",
              "      <td>Kraeff, Mr. Theodor</td>\n",
              "      <td>0</td>\n",
              "      <td>NaN</td>\n",
              "    </tr>\n",
              "    <tr>\n",
              "      <th>45</th>\n",
              "      <td>46</td>\n",
              "      <td>Rogers, Mr. William John</td>\n",
              "      <td>0</td>\n",
              "      <td>NaN</td>\n",
              "    </tr>\n",
              "    <tr>\n",
              "      <th>46</th>\n",
              "      <td>47</td>\n",
              "      <td>Lennon, Mr. Denis</td>\n",
              "      <td>0</td>\n",
              "      <td>NaN</td>\n",
              "    </tr>\n",
              "    <tr>\n",
              "      <th>47</th>\n",
              "      <td>48</td>\n",
              "      <td>O'Driscoll, Miss. Bridget</td>\n",
              "      <td>1</td>\n",
              "      <td>NaN</td>\n",
              "    </tr>\n",
              "    <tr>\n",
              "      <th>48</th>\n",
              "      <td>49</td>\n",
              "      <td>Samaan, Mr. Youssef</td>\n",
              "      <td>0</td>\n",
              "      <td>NaN</td>\n",
              "    </tr>\n",
              "    <tr>\n",
              "      <th>55</th>\n",
              "      <td>56</td>\n",
              "      <td>Woolner, Mr. Hugh</td>\n",
              "      <td>1</td>\n",
              "      <td>NaN</td>\n",
              "    </tr>\n",
              "    <tr>\n",
              "      <th>64</th>\n",
              "      <td>65</td>\n",
              "      <td>Stewart, Mr. Albert A</td>\n",
              "      <td>0</td>\n",
              "      <td>NaN</td>\n",
              "    </tr>\n",
              "    <tr>\n",
              "      <th>65</th>\n",
              "      <td>66</td>\n",
              "      <td>Moubarek, Master. Gerios</td>\n",
              "      <td>1</td>\n",
              "      <td>NaN</td>\n",
              "    </tr>\n",
              "    <tr>\n",
              "      <th>76</th>\n",
              "      <td>77</td>\n",
              "      <td>Staneff, Mr. Ivan</td>\n",
              "      <td>0</td>\n",
              "      <td>NaN</td>\n",
              "    </tr>\n",
              "    <tr>\n",
              "      <th>77</th>\n",
              "      <td>78</td>\n",
              "      <td>Moutal, Mr. Rahamin Haim</td>\n",
              "      <td>0</td>\n",
              "      <td>NaN</td>\n",
              "    </tr>\n",
              "    <tr>\n",
              "      <th>82</th>\n",
              "      <td>83</td>\n",
              "      <td>McDermott, Miss. Brigdet Delia</td>\n",
              "      <td>1</td>\n",
              "      <td>NaN</td>\n",
              "    </tr>\n",
              "  </tbody>\n",
              "</table>\n",
              "</div>"
            ],
            "text/plain": [
              "    PassengerId                                            Name  Survived  Age\n",
              "5             6                                Moran, Mr. James         0  NaN\n",
              "17           18                    Williams, Mr. Charles Eugene         1  NaN\n",
              "19           20                         Masselmani, Mrs. Fatima         1  NaN\n",
              "26           27                         Emir, Mr. Farred Chehab         0  NaN\n",
              "28           29                   O'Dwyer, Miss. Ellen \"Nellie\"         1  NaN\n",
              "29           30                             Todoroff, Mr. Lalio         0  NaN\n",
              "31           32  Spencer, Mrs. William Augustus (Marie Eugenie)         1  NaN\n",
              "32           33                        Glynn, Miss. Mary Agatha         1  NaN\n",
              "36           37                                Mamee, Mr. Hanna         1  NaN\n",
              "42           43                             Kraeff, Mr. Theodor         0  NaN\n",
              "45           46                        Rogers, Mr. William John         0  NaN\n",
              "46           47                               Lennon, Mr. Denis         0  NaN\n",
              "47           48                       O'Driscoll, Miss. Bridget         1  NaN\n",
              "48           49                             Samaan, Mr. Youssef         0  NaN\n",
              "55           56                               Woolner, Mr. Hugh         1  NaN\n",
              "64           65                           Stewart, Mr. Albert A         0  NaN\n",
              "65           66                        Moubarek, Master. Gerios         1  NaN\n",
              "76           77                               Staneff, Mr. Ivan         0  NaN\n",
              "77           78                        Moutal, Mr. Rahamin Haim         0  NaN\n",
              "82           83                  McDermott, Miss. Brigdet Delia         1  NaN"
            ]
          },
          "execution_count": 6,
          "metadata": {},
          "output_type": "execute_result"
        }
      ],
      "source": [
        "# Select Passengers with unknown age\n",
        "# Notice how we use .isnull() rows with no value\n",
        "unknown_age = dataset[dataset[\"Age\"].isnull()]\n",
        "\n",
        "# Print only the columns we want for the moment (to better fit the screen)\n",
        "# limit output to 20 rows\n",
        "unknown_age[[\"PassengerId\",\"Name\", \"Survived\", \"Age\"]][:20]"
      ]
    },
    {
      "attachments": {},
      "cell_type": "markdown",
      "metadata": {},
      "source": [
        "This technique lists the passengers with missing `Cabin` or `Embarked` information as well. Let's combine these using an `AND`, to see how many passengers are missing both Cabin and Age information"
      ]
    },
    {
      "cell_type": "code",
      "execution_count": 7,
      "metadata": {
        "gather": {
          "logged": 1677283016339
        }
      },
      "outputs": [
        {
          "name": "stdout",
          "output_type": "stream",
          "text": [
            "Number of passengers missing age and cabin information: 158\n"
          ]
        }
      ],
      "source": [
        "# Find those passengers with missing age or cabin information\n",
        "missing_age = dataset[\"Age\"].isnull()\n",
        "missing_cabin = dataset[\"Cabin\"].isnull()\n",
        "\n",
        "# Find those passengers missing both\n",
        "unknown_age_and_cabin = dataset[missing_age & missing_cabin]\n",
        "print(\"Number of passengers missing age and cabin information:\", len(unknown_age_and_cabin))"
      ]
    },
    {
      "attachments": {},
      "cell_type": "markdown",
      "metadata": {},
      "source": [
        "Our suspicions were correct - most passengers missing age information are also missing cabin information. \n",
        "\n",
        "Normally, from here, we would want to know _why_ we have this issue. A good hypothesis is that information was not collected carefully enough for the passengers who used the cheap tickets. \n",
        "\n",
        "Let's plot a histogram of ticket classes, and another of just people missing information. "
      ]
    },
    {
      "cell_type": "code",
      "execution_count": 8,
      "metadata": {
        "gather": {
          "logged": 1677283029277
        }
      },
      "outputs": [
        {
          "data": {
            "text/plain": [
              "Text(0, 0.5, 'Passenger Count')"
            ]
          },
          "execution_count": 8,
          "metadata": {},
          "output_type": "execute_result"
        },
        {
          "data": {
            "image/png": "[encoded data removed]",
            "text/plain": [
              "<Figure size 640x480 with 1 Axes>"
            ]
          },
          "metadata": {},
          "output_type": "display_data"
        }
      ],
      "source": [
        "plt.hist((dataset.values[:,2]),bins=[0.5, 1.5, 2.5, 3.5],edgecolor=\"white\")\n",
        "plt.hist((unknown_age_and_cabin.values[:,2]),bins=[0.5, 1.5, 2.5, 3.5],edgecolor=\"white\")\n",
        "plt.xticks([1, 2, 3])\n",
        "plt.xlabel(\"Pclass (Passenger Class)\", fontsize=16)\n",
        "plt.ylabel(\"Passenger Count\", fontsize=16)"
      ]
    },
    {
      "attachments": {},
      "cell_type": "markdown",
      "metadata": {},
      "source": [
        "It seems that those passengers with missing information typically used the cheaper tickets. These sorts of biases might cause problems in real-world analyses.\n",
        "\n",
        "## Missing as Zero\n",
        "\n",
        "Additionally, some datasets may have missing values that appear as zero. While the Titanic dataset doesn't have this problem, let's see how that would work here."
      ]
    },
    {
      "cell_type": "code",
      "execution_count": 9,
      "metadata": {
        "gather": {
          "logged": 1677284001038
        }
      },
      "outputs": [
        {
          "name": "stdout",
          "output_type": "stream",
          "text": [
            "The average age on the ship was 29.69911764705882 years old\n",
            "The average age on the ship was 23.79929292929293 years old\n"
          ]
        }
      ],
      "source": [
        "import numpy as np\n",
        "\n",
        "# Print out the average age of passengers for whom we have age data\n",
        "mean_age = np.mean(dataset.Age)\n",
        "print(\"The average age on the ship was\", mean_age, \"years old\")\n",
        "\n",
        "# Now, make another model where missing ages contained a '0'\n",
        "dataset['Age_2'] = dataset['Age'].fillna(0)\n",
        "mean_age = np.mean(dataset.Age_2)\n",
        "print(\"The average age on the ship was\", mean_age, \"years old\")"
      ]
    },
    {
      "attachments": {},
      "cell_type": "markdown",
      "metadata": {},
      "source": [
        "What happened here? Our analyses consider the values of `0` not as 'missing' values, but instead as actual age values.\n",
        "\n",
        "This shows that it can be important to time the review of your raw data before you run the analyses. Another fast way to get a feel for a dataset is to graph its distribution:"
      ]
    },
    {
      "cell_type": "code",
      "execution_count": 10,
      "metadata": {
        "gather": {
          "logged": 1677284008964
        }
      },
      "outputs": [
        {
          "data": {
            "text/plain": [
              "Text(0, 0.5, 'Passenger Count')"
            ]
          },
          "execution_count": 10,
          "metadata": {},
          "output_type": "execute_result"
        },
        {
          "data": {
            "image/png": "[encoded data removed]",
            "text/plain": [
              "<Figure size 640x480 with 1 Axes>"
            ]
          },
          "metadata": {},
          "output_type": "display_data"
        }
      ],
      "source": [
        "plt.hist(dataset[\"Age\"],bins=[0, 10, 20, 30, 40, 50, 60, 70, 80, 90],edgecolor=\"white\")\n",
        "plt.xticks([0, 10, 20, 30, 40, 50, 60, 70, 80, 90])\n",
        "plt.xlim([0, 90])\n",
        "plt.xlabel(\"Age_2\", fontsize=16)\n",
        "plt.ylabel(\"Passenger Count\", fontsize=16)"
      ]
    },
    {
      "attachments": {},
      "cell_type": "markdown",
      "metadata": {},
      "source": [
        "Here, we see an unlikely number of very young children. This would be cause for further inspection of the data, to hopefully spot the fact that the missing ages appear as zeros.\n",
        "\n",
        "## Handling Missing Data\n",
        "\n",
        "We have many ways to address missing data, each with pros and cons.\n",
        "\n",
        "Let's take a look at the less complex options:\n",
        "\n",
        "### Option 1: Delete data with missing rows\n",
        "\n",
        "For a model that cannot handle missing data, the most prudent thing to do is to remove rows that have information missing.\n",
        "\n",
        "Let's remove some data from the `Embarked` column, which only has two rows with missing data."
      ]
    },
    {
      "cell_type": "code",
      "execution_count": 12,
      "metadata": {
        "gather": {
          "logged": 1677284015800
        }
      },
      "outputs": [
        {
          "name": "stdout",
          "output_type": "stream",
          "text": [
            "The original size of our dataset was (891, 13)\n",
            "The shape for the clean dataset is (889, 13)\n"
          ]
        }
      ],
      "source": [
        "# Create a \"clean\" dataset, where we cumulatively fix missing values\n",
        "# Start by removing rows ONLY where \"Embarked\" has no values\n",
        "print(f\"The original size of our dataset was\", dataset.shape)\n",
        "clean_dataset = dataset.dropna(subset=[\"Embarked\"])\n",
        "clean_dataset = clean_dataset.reindex()\n",
        "\n",
        "# How many rows do we have now?\n",
        "print(\"The shape for the clean dataset is\", clean_dataset.shape)"
      ]
    },
    {
      "attachments": {},
      "cell_type": "markdown",
      "metadata": {},
      "source": [
        "We can see that this removed the offending two rows from our new, clean dataset.\n",
        "\n",
        "### Option 2: Replace empty values with the mean or median for that data.\n",
        "\n",
        "Sometimes, our model cannot handle missing values, and we also cannot afford to remove too much data. In this case, we can sometimes fill in missing data with an average calculated on the basis of the rest of the dataset. Note that imputing data like this can affect model performance in a negative way. Usually, it's better to simply remove missing data, or to use a model designed to handle missing values.\n",
        "\n",
        "Here, we impute data for the `Age` field. We use the mean `Age` from the remaining rows, given that >80% of these have values:"
      ]
    },
    {
      "cell_type": "code",
      "execution_count": 13,
      "metadata": {
        "gather": {
          "logged": 1677284021762
        }
      },
      "outputs": [
        {
          "name": "stdout",
          "output_type": "stream",
          "text": [
            "The mean age is 29.64209269662921\n",
            "             Empty Cells\n",
            "PassengerId            0\n",
            "Survived               0\n",
            "Pclass                 0\n",
            "Name                   0\n",
            "Sex                    0\n",
            "Age                    0\n",
            "SibSp                  0\n",
            "Parch                  0\n",
            "Ticket                 0\n",
            "Fare                   0\n",
            "Cabin                687\n",
            "Embarked               0\n",
            "Age_2                  0\n"
          ]
        },
        {
          "name": "stderr",
          "output_type": "stream",
          "text": [
            "/tmp/ipykernel_5207/972590070.py:7: FutureWarning: A value is trying to be set on a copy of a DataFrame or Series through chained assignment using an inplace method.\n",
            "The behavior will change in pandas 3.0. This inplace method will never work because the intermediate object on which we are setting values always behaves as a copy.\n",
            "\n",
            "For example, when doing 'df[col].method(value, inplace=True)', try using 'df.method({col: value}, inplace=True)' or df[col] = df[col].method(value) instead, to perform the operation inplace on the original object.\n",
            "\n",
            "\n",
            "  clean_dataset[\"Age\"].fillna(mean_age, inplace=True)\n"
          ]
        }
      ],
      "source": [
        "# Calculate the mean value for the Age column\n",
        "mean_age = clean_dataset[\"Age\"].mean()\n",
        "\n",
        "print(\"The mean age is\", mean_age)\n",
        "\n",
        "# Replace empty values in \"Age\" with the mean calculated above\n",
        "clean_dataset[\"Age\"].fillna(mean_age, inplace=True)\n",
        "\n",
        "# Let's see what the clean dataset looks like now\n",
        "print(clean_dataset.isnull().sum().to_frame().rename(columns={0:'Empty Cells'}))"
      ]
    },
    {
      "attachments": {},
      "cell_type": "markdown",
      "metadata": {},
      "source": [
        "The `Age` field has no longer has empty cells.\n",
        "\n",
        "### Option 3: Assign a new category to unknown categorical data\n",
        "\n",
        "The `Cabin` field is a categorical field, because the Titanic cabins have a finite number of possible options. Unfortunately, many records have no cabin listed.\n",
        "\n",
        "For this exercise, it makes perfect sense to create an `Unknown` category, and assign it to the cases where the cabin is unknown:"
      ]
    },
    {
      "cell_type": "code",
      "execution_count": 14,
      "metadata": {
        "gather": {
          "logged": 1677284026121
        }
      },
      "outputs": [
        {
          "name": "stdout",
          "output_type": "stream",
          "text": [
            "             Empty Cells\n",
            "PassengerId            0\n",
            "Survived               0\n",
            "Pclass                 0\n",
            "Name                   0\n",
            "Sex                    0\n",
            "Age                    0\n",
            "SibSp                  0\n",
            "Parch                  0\n",
            "Ticket                 0\n",
            "Fare                   0\n",
            "Cabin                  0\n",
            "Embarked               0\n",
            "Age_2                  0\n"
          ]
        },
        {
          "name": "stderr",
          "output_type": "stream",
          "text": [
            "/tmp/ipykernel_5207/1562811783.py:2: FutureWarning: A value is trying to be set on a copy of a DataFrame or Series through chained assignment using an inplace method.\n",
            "The behavior will change in pandas 3.0. This inplace method will never work because the intermediate object on which we are setting values always behaves as a copy.\n",
            "\n",
            "For example, when doing 'df[col].method(value, inplace=True)', try using 'df.method({col: value}, inplace=True)' or df[col] = df[col].method(value) instead, to perform the operation inplace on the original object.\n",
            "\n",
            "\n",
            "  clean_dataset[\"Cabin\"].fillna(\"Unknown\", inplace=True)\n"
          ]
        }
      ],
      "source": [
        "# Assign unknown to records where \"Cabin\" is empty\n",
        "clean_dataset[\"Cabin\"].fillna(\"Unknown\", inplace=True)\n",
        "\n",
        "# Let's see what the clean dataset looks like now\n",
        "print(clean_dataset.isnull().sum().to_frame().rename(columns={0:'Empty Cells'}))"
      ]
    },
    {
      "attachments": {},
      "cell_type": "markdown",
      "metadata": {},
      "source": [
        "That's it! No more missing data!\n",
        "\n",
        "We only lost two records (where `Embarked` was empty).\n",
        "\n",
        "That said, we had to make some approximations to fill the missing gaps for the `Age` and `Cabin` columns, and those will certainly influence the performance of any model we train on this data.\n",
        "\n",
        "## Summary\n",
        "\n",
        "Missing values can affect the way a Machine Learning model works in a negative way. It's important to quickly verify the existence of data gaps, and the locations of those gaps.\n",
        "\n",
        "You can now get a \"big picture\" of what is missing. Using lists and charts, you can select only those items that you must address.\n",
        "\n",
        "In this exercise, we practiced:\n",
        "\n",
        "- Finding and visualization of missing dataset values, with the `pandas` and `missingno` packages.\n",
        "- Checking whether a dataset uses the value '0' to represent missing values.\n",
        "- Handling missing data in three ways: removal of rows that contain missing values, replacement of the missing values with the mean or median of that particular feature, and creation of a new `Unknown` category, when dealing with categorical data."
      ]
    }
  ],
  "metadata": {
    "kernel_info": {
      "name": "python3"
    },
    "kernelspec": {
      "display_name": "Python 3 (ipykernel)",
      "language": "python",
      "name": "python3"
    },
    "language_info": {
      "codemirror_mode": {
        "name": "ipython",
        "version": 3
      },
      "file_extension": ".py",
      "mimetype": "text/x-python",
      "name": "python",
      "nbconvert_exporter": "python",
      "pygments_lexer": "ipython3",
      "version": "3.10.13"
    },
    "microsoft": {
      "host": {
        "AzureML": {
          "notebookHasBeenCompleted": true
        }
      },
      "ms_spell_check": {
        "ms_spell_check_language": "en"
      }
    },
    "nteract": {
      "version": "nteract-front-end@1.0.0"
    },
    "vscode": {
      "interpreter": {
        "hash": "d986dcce87f8efbe64f9555c9767535f3ea76b09442c50f327a793e0b4903fbe"
      }
    }
  },
  "nbformat": 4,
  "nbformat_minor": 2
}
